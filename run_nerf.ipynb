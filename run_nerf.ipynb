{
 "cells": [
  {
   "cell_type": "code",
   "execution_count": 57,
   "id": "1a8307b3-99b4-43c0-9d3d-975bd63c8bc9",
   "metadata": {},
   "outputs": [],
   "source": [
    "import read_write_model as colmap_reader\n",
    "import numpy as np\n",
    "import torch\n",
    "import imageio.v3 as iio\n",
    "import matplotlib.pyplot as plt\n",
    "from load_data import read_data"
   ]
  },
  {
   "cell_type": "code",
   "execution_count": 58,
   "id": "9ccc697e-2bd5-4c18-90a8-7812d82507db",
   "metadata": {},
   "outputs": [
    {
     "name": "stdout",
     "output_type": "stream",
     "text": [
      "Loading Poses...\n",
      "Done\n",
      "Reading Images...\n",
      "Done\n"
     ]
    }
   ],
   "source": [
    "imagedir = './images'\n",
    "camFile = 'cameras.bin'\n",
    "imgFile = 'images.bin'\n",
    "\n",
    "images, c2w, H, W, F = read_data(camFile, imgFile, imagedir)"
   ]
  },
  {
   "cell_type": "code",
   "execution_count": 59,
   "id": "b1ca4baf-0844-46ec-a6fe-dd16cb3f0790",
   "metadata": {},
   "outputs": [],
   "source": [
    "i, j = torch.meshgrid(torch.arange(0, W, dtype = torch.int32), torch.arange(0, H, dtype=torch.int32), indexing = 'xy')\n",
    "dirs = torch.stack([(i - W * 0.5) / F, -(j - H * .5)/F, -torch.ones_like(i)], -1)\n",
    "rays_d = torch.sum(dirs[..., np.newaxis, :] * c2w[0, :3, :3], -1)\n",
    "rays_o = torch.broadcast_to(torch.Tensor(c2w[0, :3, -1]), rays_d.shape)"
   ]
  },
  {
   "cell_type": "code",
   "execution_count": 75,
   "id": "da52e78d-43d1-4d99-a367-ce952e7d4146",
   "metadata": {},
   "outputs": [],
   "source": [
    "L_embed = 10\n",
    "def posenc(x):\n",
    "  rets = [x]\n",
    "  for i in range(L_embed):\n",
    "    for fn in [torch.sin, torch.cos]:\n",
    "      rets.append(fn(2.**i * x))\n",
    "      print(fn(2.**i * x).shape)\n",
    "      return\n",
    "  return torch.concat(rets, -1)"
   ]
  },
  {
   "cell_type": "code",
   "execution_count": 76,
   "id": "2f692f0d-8e4e-48be-9dca-640fa88b2ef1",
   "metadata": {},
   "outputs": [
    {
     "data": {
      "text/plain": [
       "torch.Size([2304, 3072, 3])"
      ]
     },
     "execution_count": 76,
     "metadata": {},
     "output_type": "execute_result"
    }
   ],
   "source": [
    "rays_o.shape"
   ]
  },
  {
   "cell_type": "code",
   "execution_count": 77,
   "id": "1c97f539-4ade-4fbb-b1e5-9858c84f0eba",
   "metadata": {},
   "outputs": [
    {
     "name": "stdout",
     "output_type": "stream",
     "text": [
      "torch.Size([2304, 3072, 3])\n"
     ]
    }
   ],
   "source": [
    "test = posenc(rays_o)"
   ]
  },
  {
   "cell_type": "code",
   "execution_count": 69,
   "id": "bf304266-3785-4edc-9fab-afee63e9373a",
   "metadata": {},
   "outputs": [
    {
     "data": {
      "text/plain": [
       "torch.Size([2304, 3072, 63])"
      ]
     },
     "execution_count": 69,
     "metadata": {},
     "output_type": "execute_result"
    }
   ],
   "source": [
    "test.shape"
   ]
  },
  {
   "cell_type": "code",
   "execution_count": null,
   "id": "04ecbd27-ed1c-446e-9a89-4b0cfb8c6b5d",
   "metadata": {},
   "outputs": [],
   "source": [
    "class PositionalEncoding():\n",
    "    def __init__(self, L_pos = 10, L_dir = 4):\n",
    "        '''\n",
    "        L_pos: Position (xyz) coordinates will be mapped to L_pos * 2 dimentions\n",
    "        L_dir: Viewing direction unit vector will be mapped to L_dir * 2 dimentions\n",
    "        '''\n",
    "        self.L_pos = 10\n",
    "        self.L_dir = 4\n",
    "\n",
    "    def forward(pos, vdir):\n",
    "        posvec = torch.zeros(pos.shape[0], L_pos * 2 * 3)\n",
    "        dirvec = torch.zeros(vdir.shape[0], L_pos * 2 * 3)\n",
    "\n",
    "        \n",
    "        "
   ]
  }
 ],
 "metadata": {
  "kernelspec": {
   "display_name": "Python 3 (ipykernel)",
   "language": "python",
   "name": "python3"
  },
  "language_info": {
   "codemirror_mode": {
    "name": "ipython",
    "version": 3
   },
   "file_extension": ".py",
   "mimetype": "text/x-python",
   "name": "python",
   "nbconvert_exporter": "python",
   "pygments_lexer": "ipython3",
   "version": "3.12.5"
  }
 },
 "nbformat": 4,
 "nbformat_minor": 5
}
