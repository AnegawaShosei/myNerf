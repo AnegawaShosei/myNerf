{
 "cells": [
  {
   "cell_type": "code",
   "execution_count": 43,
   "id": "1a8307b3-99b4-43c0-9d3d-975bd63c8bc9",
   "metadata": {
    "tags": []
   },
   "outputs": [
    {
     "name": "stdout",
     "output_type": "stream",
     "text": [
      "The autoreload extension is already loaded. To reload it, use:\n",
      "  %reload_ext autoreload\n"
     ]
    }
   ],
   "source": [
    "import read_write_model as colmap_reader\n",
    "import numpy as np\n",
    "import torch\n",
    "from torch import nn\n",
    "import imageio.v3 as iio\n",
    "import matplotlib.pyplot as plt\n",
    "from datautils import read_data\n",
    "from nerfhelpers import PositionalEncoding, get_rays, batched_get_rays\n",
    "%load_ext autoreload\n",
    "%autoreload 2"
   ]
  },
  {
   "cell_type": "code",
   "execution_count": 8,
   "id": "9ccc697e-2bd5-4c18-90a8-7812d82507db",
   "metadata": {
    "tags": []
   },
   "outputs": [
    {
     "name": "stdout",
     "output_type": "stream",
     "text": [
      "Loading Poses...\n",
      "Done\n",
      "Reading Images...\n",
      "Done\n"
     ]
    }
   ],
   "source": [
    "imagedir = './images'\n",
    "camFile = 'cameras.bin'\n",
    "imgFile = 'images.bin'\n",
    "\n",
    "images, c2w, H, W, F = read_data(camFile, imgFile, imagedir)\n",
    "images = torch.tensor(images, dtype = torch.float32)\n",
    "c2w = torch.tensor(c2w, dtype = torch.float32)"
   ]
  },
  {
   "cell_type": "code",
   "execution_count": 42,
   "id": "27150ec0-57f8-4449-8022-e57710c15f22",
   "metadata": {},
   "outputs": [],
   "source": [
    "rays_o, rays_d = get_rays(H, W, F, c2w[0])"
   ]
  },
  {
   "cell_type": "code",
   "execution_count": 84,
   "id": "53ecfa15-6f35-4b67-82c3-dd1f4b6b3261",
   "metadata": {},
   "outputs": [],
   "source": [
    "test_o = torch.rand((10, 3))\n",
    "test_d = torch.rand((10, 3))\n",
    "\n",
    "model = NeRF()\n",
    "t = model.forward(test_o, test_d)"
   ]
  },
  {
   "cell_type": "code",
   "execution_count": 82,
   "id": "92d09aeb-cf91-4f73-9aed-18df1f92b2dd",
   "metadata": {},
   "outputs": [],
   "source": [
    "class NeRF(nn.Module):\n",
    "    def __init__(self, L_pos = 10, L_dir = 4):\n",
    "        super().__init__()\n",
    "        self.L_pos = L_pos\n",
    "        self.L_dir = L_dir\n",
    "        self.relu = nn.ReLU()\n",
    "        self.sigmoid = nn.Sigmoid\n",
    "        \n",
    "        self.pos_input = nn.Linear(3 + self.L_pos * 2 * 3, 256)\n",
    "        self.posnet = nn.ModuleList([nn.Linear(256, 256) for i in range(7)])\n",
    "        self.alpha_output = nn.Linear(256, 1)\n",
    "\n",
    "        self.view_input = nn.Linear(256 + 3 + self.L_dir * 2 * 3, 128)\n",
    "        self.rgb_output = nn.Linear(128, 3)\n",
    "\n",
    "    def forward(self, pos, view):\n",
    "        pos, view = self.encode(pos, view)\n",
    "\n",
    "        out = self.relu(self.pos_input(pos))\n",
    "        for lin in self.posnet:\n",
    "            out = self.relu(lin(out))\n",
    "\n",
    "        alpha = self.alpha_output(out) \n",
    "        out = torch.cat((out, view), axis = -1)\n",
    "\n",
    "        out = self.relu(self.view_input(out))\n",
    "        rgb = self.rgb_output(out)\n",
    "\n",
    "        return torch.cat((rgb, alpha), axis = -1)\n",
    "        \n",
    "\n",
    "    def encode(self, pos, vdir):\n",
    "        posenc = [pos] #Try including base pos and dir\n",
    "        direnc = [vdir]\n",
    "        \n",
    "        for i in range(0, self.L_pos):\n",
    "            for f in [torch.sin, torch.cos]:\n",
    "                posenc.append(f(pos * np.pi * (2 ** i)))\n",
    "                              \n",
    "        for j in range(0, self.L_dir):\n",
    "            for f in [torch.sin, torch.cos]:\n",
    "                direnc.append(f(vdir * np.pi * (2 ** i)))\n",
    "        \n",
    "        posenc = torch.cat(posenc, -1)\n",
    "        direnc = torch.cat(direnc, -1)\n",
    "        \n",
    "        return posenc, direnc"
   ]
  },
  {
   "cell_type": "code",
   "execution_count": null,
   "id": "c4464f49-9040-4c64-85e1-3d224f4ce842",
   "metadata": {},
   "outputs": [],
   "source": []
  }
 ],
 "metadata": {
  "kernelspec": {
   "display_name": "Python 3 (ipykernel)",
   "language": "python",
   "name": "python3"
  },
  "language_info": {
   "codemirror_mode": {
    "name": "ipython",
    "version": 3
   },
   "file_extension": ".py",
   "mimetype": "text/x-python",
   "name": "python",
   "nbconvert_exporter": "python",
   "pygments_lexer": "ipython3",
   "version": "3.12.5"
  }
 },
 "nbformat": 4,
 "nbformat_minor": 5
}
